{
 "cells": [
  {
   "cell_type": "markdown",
   "id": "353bbfbe",
   "metadata": {},
   "source": [
    "# Test 1 short\n",
    "\n",
    "Sometimes, dnadiff returns diffrent value for AlignedBases that our code. \n",
    "\n",
    "Here, is a short example with 2 genomes. For the purpose of this investigation, I kept the refernce genome unchanged, for the query genome sequences that cause the issue were kept. "
   ]
  },
  {
   "cell_type": "markdown",
   "id": "aa8bd940",
   "metadata": {},
   "source": [
    "__Step 1__: Run dnadiff and obtain the value for AlignedBases."
   ]
  },
  {
   "cell_type": "code",
   "execution_count": 1,
   "id": "78aaa60c",
   "metadata": {},
   "outputs": [],
   "source": [
    "from pathlib import Path\n",
    "from collections import defaultdict\n",
    "import intervaltree"
   ]
  },
  {
   "cell_type": "code",
   "execution_count": 2,
   "id": "e7b41d44",
   "metadata": {},
   "outputs": [
    {
     "name": "stdout",
     "output_type": "stream",
     "text": [
      "Building alignments\n",
      "1: PREPARING DATA\n",
      "2,3: RUNNING mummer AND CREATING CLUSTERS\n",
      "# reading input file \"out.ntref\" of length 7787609\n",
      "# construct suffix tree for sequence of length 7787609\n",
      "# (maximum reference length is 536870908)\n",
      "# (maximum query length is 4294967295)\n",
      "# process 77876 characters per dot\n",
      "#....................................................................................................\n",
      "# CONSTRUCTIONTIME /opt/anaconda3/envs/phd/opt/mummer-3.23/mummer out.ntref 3.60\n",
      "# reading input file \"/Users/angelikakiepas/Desktop/test_1_incongruencies/input/GCF_015244315.1_troublesome_regions.fna\" of length 1211\n",
      "# matching query-file \"/Users/angelikakiepas/Desktop/test_1_incongruencies/input/GCF_015244315.1_troublesome_regions.fna\"\n",
      "# against subject-file \"out.ntref\"\n",
      "# COMPLETETIME /opt/anaconda3/envs/phd/opt/mummer-3.23/mummer out.ntref 3.61\n",
      "# SPACE /opt/anaconda3/envs/phd/opt/mummer-3.23/mummer out.ntref 7.55\n",
      "4: FINISHING DATA\n",
      "Filtering alignments\n",
      "Extracting alignment coordinates\n",
      "Analyzing SNPs\n",
      "Extracting alignment breakpoints\n",
      "Generating report file\n"
     ]
    }
   ],
   "source": [
    "!dnadiff input/GCF_003369795.1_ASM336979v1_genomic.fna input/GCF_015244315.1_troublesome_regions.fna\n"
   ]
  },
  {
   "cell_type": "markdown",
   "id": "b97a5860",
   "metadata": {},
   "source": [
    "Let's see what the AlignedBases value is."
   ]
  },
  {
   "cell_type": "code",
   "execution_count": 3,
   "id": "d5ff1f90",
   "metadata": {},
   "outputs": [
    {
     "name": "stdout",
     "output_type": "stream",
     "text": [
      "/Users/angelikakiepas/Desktop/test_1_incongruencies/input/GCF_003369795.1_ASM336979v1_genomic.fna /Users/angelikakiepas/Desktop/test_1_incongruencies/input/GCF_015244315.1_troublesome_regions.fna\r\n",
      "NUCMER\r\n",
      "\r\n",
      "                               [REF]                [QRY]\r\n",
      "[Sequences]\r\n",
      "TotalSeqs                          1                    3\r\n",
      "AlignedSeqs               1(100.00%)           3(100.00%)\r\n",
      "UnalignedSeqs               0(0.00%)             0(0.00%)\r\n",
      "\r\n",
      "[Bases]\r\n",
      "TotalBases                   7787608                 1209\r\n",
      "AlignedBases              716(0.01%)          968(80.07%)\r\n",
      "UnalignedBases       7786892(99.99%)          241(19.93%)\r\n",
      "\r\n",
      "[Alignments]\r\n",
      "1-to-1                             2                    2\r\n",
      "TotalLength                      716                  716\r\n",
      "AvgLength                     358.00               358.00\r\n",
      "AvgIdentity                    90.65                90.65\r\n",
      "\r\n",
      "M-to-M                             3                    3\r\n",
      "TotalLength                      965                  968\r\n",
      "AvgLength                     321.67               322.67\r\n",
      "AvgIdentity                    88.86                88.86\r\n",
      "\r\n",
      "[Feature Estimates]\r\n",
      "Breakpoints                        6                    5\r\n",
      "Relocations                        0                    0\r\n",
      "Translocations                     1                    0\r\n",
      "Inversions                         0                    0\r\n",
      "\r\n",
      "Insertions                         3                    6\r\n",
      "InsertionSum                 7786892                  493\r\n",
      "InsertionAvg              2595630.67                82.17\r\n",
      "\r\n",
      "TandemIns                          0                    0\r\n",
      "TandemInsSum                       0                    0\r\n",
      "TandemInsAvg                    0.00                 0.00\r\n",
      "\r\n",
      "[SNPs]\r\n",
      "TotalSNPs                         65                   65\r\n",
      "TC                         7(10.77%)           11(16.92%)\r\n",
      "TG                          2(3.08%)             6(9.23%)\r\n",
      "TA                          0(0.00%)             0(0.00%)\r\n",
      "CG                        12(18.46%)           16(24.62%)\r\n",
      "CA                          1(1.54%)             0(0.00%)\r\n",
      "CT                        11(16.92%)            7(10.77%)\r\n",
      "AC                          0(0.00%)             1(1.54%)\r\n",
      "AG                          5(7.69%)             5(7.69%)\r\n",
      "AT                          0(0.00%)             0(0.00%)\r\n",
      "GA                          5(7.69%)             5(7.69%)\r\n",
      "GC                        16(24.62%)           12(18.46%)\r\n",
      "GT                          6(9.23%)             2(3.08%)\r\n",
      "\r\n",
      "TotalGSNPs                         1                    1\r\n",
      "CT                        1(100.00%)             0(0.00%)\r\n",
      "CA                          0(0.00%)             0(0.00%)\r\n",
      "CG                          0(0.00%)             0(0.00%)\r\n",
      "GC                          0(0.00%)             0(0.00%)\r\n",
      "GA                          0(0.00%)             0(0.00%)\r\n",
      "GT                          0(0.00%)             0(0.00%)\r\n",
      "AG                          0(0.00%)             0(0.00%)\r\n",
      "AC                          0(0.00%)             0(0.00%)\r\n",
      "AT                          0(0.00%)             0(0.00%)\r\n",
      "TC                          0(0.00%)           1(100.00%)\r\n",
      "TA                          0(0.00%)             0(0.00%)\r\n",
      "TG                          0(0.00%)             0(0.00%)\r\n",
      "\r\n",
      "TotalIndels                        2                    2\r\n",
      "T.                          0(0.00%)             0(0.00%)\r\n",
      "C.                         1(50.00%)            1(50.00%)\r\n",
      "A.                          0(0.00%)             0(0.00%)\r\n",
      "G.                          0(0.00%)             0(0.00%)\r\n",
      ".A                          0(0.00%)             0(0.00%)\r\n",
      ".G                          0(0.00%)             0(0.00%)\r\n",
      ".C                         1(50.00%)            1(50.00%)\r\n",
      ".T                          0(0.00%)             0(0.00%)\r\n",
      "\r\n",
      "TotalGIndels                       0                    0\r\n",
      "C.                          0(0.00%)             0(0.00%)\r\n",
      "G.                          0(0.00%)             0(0.00%)\r\n",
      "A.                          0(0.00%)             0(0.00%)\r\n",
      "T.                          0(0.00%)             0(0.00%)\r\n",
      ".G                          0(0.00%)             0(0.00%)\r\n",
      ".A                          0(0.00%)             0(0.00%)\r\n",
      ".C                          0(0.00%)             0(0.00%)\r\n",
      ".T                          0(0.00%)             0(0.00%)\r\n"
     ]
    }
   ],
   "source": [
    "!cat out.report"
   ]
  },
  {
   "cell_type": "markdown",
   "id": "49428f14",
   "metadata": {},
   "source": [
    "**Step 2:** Calculate the total number of aligned bases with interval tree"
   ]
  },
  {
   "cell_type": "code",
   "execution_count": 4,
   "id": "ed91c70b",
   "metadata": {},
   "outputs": [],
   "source": [
    "def parse_delta(infname):\n",
    "    \"\"\"Parse delta files.\n",
    "\n",
    "    :param infname: Path to delta file\n",
    "    \"\"\"\n",
    "\n",
    "    current_ref = None\n",
    "    current_qry = None\n",
    "\n",
    "    regions_ref = defaultdict(list) #Hold a dictionary for refence regions\n",
    "    regions_qry = defaultdict(list) #Hold a dictionary for query regions\n",
    "\n",
    "\n",
    "    for line in [_.strip().split() for _ in infname.open(\"r\").readlines()]:\n",
    "\n",
    "            if line[0] == \"NUCMER\":  # Skip headers\n",
    "                    continue\n",
    "            if line[0].startswith(\">\"):\n",
    "                current_ref = line[0].strip('>')\n",
    "                current_qry = line[1]\n",
    "            if len(line) == 7:\n",
    "                regions_ref[current_ref].append(tuple(sorted(list([int(line[0]), int(line[1])])))) #aligned regions reference\n",
    "                regions_qry[current_qry].append(tuple(sorted(list([int(line[2]), int(line[3])])))) #aligned regions qry\n",
    "\n",
    "\n",
    "    ref_total_aligned_size = 0\n",
    "    for key in regions_ref:\n",
    "        ref_tree = intervaltree.IntervalTree.from_tuples(regions_ref[key])\n",
    "        ref_tree.merge_overlaps(strict=False)\n",
    "        print(ref_tree)\n",
    "        ref_aligned_size = 0\n",
    "        for interval in ref_tree:\n",
    "            ref_total_aligned_size += interval.end - interval.begin + 1\n",
    "            \n",
    "    return ref_total_aligned_size"
   ]
  },
  {
   "cell_type": "code",
   "execution_count": 5,
   "id": "d692b5c8",
   "metadata": {},
   "outputs": [
    {
     "name": "stdout",
     "output_type": "stream",
     "text": [
      "IntervalTree([Interval(4258377, 4258701), Interval(4263071, 4263462)])\n",
      "717\n"
     ]
    }
   ],
   "source": [
    "print(parse_delta(Path(\"out.mdelta\")))"
   ]
  },
  {
   "cell_type": "code",
   "execution_count": null,
   "id": "f7fb18d1",
   "metadata": {},
   "outputs": [],
   "source": []
  }
 ],
 "metadata": {
  "kernelspec": {
   "display_name": "Python 3 (ipykernel)",
   "language": "python",
   "name": "python3"
  },
  "language_info": {
   "codemirror_mode": {
    "name": "ipython",
    "version": 3
   },
   "file_extension": ".py",
   "mimetype": "text/x-python",
   "name": "python",
   "nbconvert_exporter": "python",
   "pygments_lexer": "ipython3",
   "version": "3.9.9"
  }
 },
 "nbformat": 4,
 "nbformat_minor": 5
}
