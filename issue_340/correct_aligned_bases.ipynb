{
 "cells": [
  {
   "cell_type": "markdown",
   "id": "c7c62e24-e379-4518-9dc0-4991dcf1a937",
   "metadata": {},
   "source": [
    "Let's make a new (viral) genome"
   ]
  },
  {
   "cell_type": "code",
   "execution_count": 7,
   "id": "56419ec0-a317-457d-87b9-f52f32fefa40",
   "metadata": {},
   "outputs": [],
   "source": [
    "import random\n",
    "\n",
    "from Bio import SeqIO\n",
    "from Bio.Seq import Seq\n",
    "from Bio.SeqRecord import SeqRecord"
   ]
  },
  {
   "cell_type": "code",
   "execution_count": 4,
   "id": "a74e642d-c782-4d8c-a7c3-cae3843e243b",
   "metadata": {},
   "outputs": [],
   "source": [
    "letters = [\"A\", \"C\", \"G\", \"T\"]\n",
    "virus = \"\".join([random.choice(letters) for _ in range(1000)])"
   ]
  },
  {
   "cell_type": "markdown",
   "id": "e2e3a375-b4d2-4fbb-973e-200be9d03c5d",
   "metadata": {},
   "source": [
    "Make a new virus that duplicates some of the middle of the sequence"
   ]
  },
  {
   "cell_type": "code",
   "execution_count": 6,
   "id": "b9df92db-ccab-42ec-a063-c6231b35349f",
   "metadata": {},
   "outputs": [
    {
     "data": {
      "text/plain": [
       "(1000, 1100)"
      ]
     },
     "execution_count": 6,
     "metadata": {},
     "output_type": "execute_result"
    }
   ],
   "source": [
    "newvirus = virus[:600] + virus[500:]\n",
    "len(virus), len(newvirus)"
   ]
  },
  {
   "cell_type": "code",
   "execution_count": 8,
   "id": "efb3b965-5ff2-486c-9705-2924710c926a",
   "metadata": {},
   "outputs": [
    {
     "data": {
      "text/plain": [
       "1"
      ]
     },
     "execution_count": 8,
     "metadata": {},
     "output_type": "execute_result"
    }
   ],
   "source": [
    "record_virus = SeqRecord(seq=Seq(virus), id=\"virus_ref\")\n",
    "record_newvirus = SeqRecord(seq=Seq(newvirus), id=\"newvirus_query\")\n",
    "\n",
    "SeqIO.write(record_virus, \"virus.fasta\", \"fasta\")\n",
    "SeqIO.write(record_newvirus, \"newvirus.fasta\", \"fasta\")"
   ]
  },
  {
   "cell_type": "markdown",
   "id": "c0d85fd3-6d7e-4985-bb73-aa84a0f2cf8a",
   "metadata": {},
   "source": [
    "What does the MUMmer alignment look like?"
   ]
  },
  {
   "cell_type": "code",
   "execution_count": 10,
   "id": "8817cb85-8dfa-424b-9151-1219dcd2bb07",
   "metadata": {},
   "outputs": [
    {
     "name": "stdout",
     "output_type": "stream",
     "text": [
      "Building alignments\n",
      "Can't exec \"/Users/lpritc/opt/anaconda3/envs/pyani_py311/opt/mummer-3.23/nucmer\": No such file or directory at /Users/lpritc/opt/anaconda3/envs/pyani_py311/bin/dnadiff line 142.\n",
      "ERROR: Failed to run nucmer, aborting.\n"
     ]
    }
   ],
   "source": [
    "!dnadiff virus.fasta newvirus.fasta"
   ]
  },
  {
   "cell_type": "code",
   "execution_count": 11,
   "id": "4c57ca82-1d83-4f54-83de-18a7bb1b9af8",
   "metadata": {},
   "outputs": [
    {
     "name": "stdout",
     "output_type": "stream",
     "text": [
      "/Users/lpritc/Desktop/virus.fasta /Users/lpritc/Desktop/newvirus.fasta\n",
      "NUCMER\n",
      "\n",
      "                               [REF]                [QRY]\n",
      "[Sequences]\n",
      "TotalSeqs                          1                    1\n",
      "AlignedSeqs               1(100.00%)           1(100.00%)\n",
      "UnalignedSeqs               0(0.00%)             0(0.00%)\n",
      "\n",
      "[Bases]\n",
      "TotalBases                      1000                 1100\n",
      "AlignedBases           1000(100.00%)        1100(100.00%)\n",
      "UnalignedBases              0(0.00%)             0(0.00%)\n",
      "\n",
      "[Alignments]\n",
      "1-to-1                             2                    2\n",
      "TotalLength                     1100                 1100\n",
      "AvgLength                     550.00               550.00\n",
      "AvgIdentity                   100.00               100.00\n",
      "\n",
      "M-to-M                             2                    2\n",
      "TotalLength                     1100                 1100\n",
      "AvgLength                     550.00               550.00\n",
      "AvgIdentity                   100.00               100.00\n",
      "\n",
      "[Feature Estimates]\n",
      "Breakpoints                        2                    2\n",
      "Relocations                        0                    0\n",
      "Translocations                     0                    0\n",
      "Inversions                         0                    0\n",
      "\n",
      "Insertions                         0                    1\n",
      "InsertionSum                       0                  100\n",
      "InsertionAvg                    0.00               100.00\n",
      "\n",
      "TandemIns                          0                    1\n",
      "TandemInsSum                       0                  100\n",
      "TandemInsAvg                    0.00               100.00\n",
      "\n",
      "[SNPs]\n",
      "TotalSNPs                          0                    0\n",
      "TC                          0(0.00%)             0(0.00%)\n",
      "TG                          0(0.00%)             0(0.00%)\n",
      "TA                          0(0.00%)             0(0.00%)\n",
      "CA                          0(0.00%)             0(0.00%)\n",
      "CG                          0(0.00%)             0(0.00%)\n",
      "CT                          0(0.00%)             0(0.00%)\n",
      "AC                          0(0.00%)             0(0.00%)\n",
      "AG                          0(0.00%)             0(0.00%)\n",
      "AT                          0(0.00%)             0(0.00%)\n",
      "GC                          0(0.00%)             0(0.00%)\n",
      "GA                          0(0.00%)             0(0.00%)\n",
      "GT                          0(0.00%)             0(0.00%)\n",
      "\n",
      "TotalGSNPs                         0                    0\n",
      "CT                          0(0.00%)             0(0.00%)\n",
      "CG                          0(0.00%)             0(0.00%)\n",
      "CA                          0(0.00%)             0(0.00%)\n",
      "AT                          0(0.00%)             0(0.00%)\n",
      "AC                          0(0.00%)             0(0.00%)\n",
      "AG                          0(0.00%)             0(0.00%)\n",
      "GT                          0(0.00%)             0(0.00%)\n",
      "GA                          0(0.00%)             0(0.00%)\n",
      "GC                          0(0.00%)             0(0.00%)\n",
      "TA                          0(0.00%)             0(0.00%)\n",
      "TG                          0(0.00%)             0(0.00%)\n",
      "TC                          0(0.00%)             0(0.00%)\n",
      "\n",
      "TotalIndels                        0                    0\n",
      "T.                          0(0.00%)             0(0.00%)\n",
      "C.                          0(0.00%)             0(0.00%)\n",
      "A.                          0(0.00%)             0(0.00%)\n",
      "G.                          0(0.00%)             0(0.00%)\n",
      ".A                          0(0.00%)             0(0.00%)\n",
      ".G                          0(0.00%)             0(0.00%)\n",
      ".C                          0(0.00%)             0(0.00%)\n",
      ".T                          0(0.00%)             0(0.00%)\n",
      "\n",
      "TotalGIndels                       0                    0\n",
      "C.                          0(0.00%)             0(0.00%)\n",
      "A.                          0(0.00%)             0(0.00%)\n",
      "G.                          0(0.00%)             0(0.00%)\n",
      "T.                          0(0.00%)             0(0.00%)\n",
      ".T                          0(0.00%)             0(0.00%)\n",
      ".A                          0(0.00%)             0(0.00%)\n",
      ".G                          0(0.00%)             0(0.00%)\n",
      ".C                          0(0.00%)             0(0.00%)\n"
     ]
    }
   ],
   "source": [
    "!cat out.report"
   ]
  },
  {
   "cell_type": "markdown",
   "id": "d3d210a2-f6b8-4da6-95b5-f3dcec829f5a",
   "metadata": {},
   "source": [
    "Let's put some indels into a version of the larger genome"
   ]
  },
  {
   "cell_type": "code",
   "execution_count": 13,
   "id": "f65909a2-a0d6-4892-b70f-a954c208e204",
   "metadata": {},
   "outputs": [
    {
     "data": {
      "text/plain": [
       "['GAAACGCTGCAGCGTATAGGTAAGAAAGAG',\n",
       " 'GACGTGTGCCATCGGAAAGCTCGAGATAAC',\n",
       " 'AACCTGGCATTCTCCCGTCTAACTAAAACT']"
      ]
     },
     "execution_count": 13,
     "metadata": {},
     "output_type": "execute_result"
    }
   ],
   "source": [
    "# Make three indels of length 30bp\n",
    "indels = [\"\".join([random.choice(letters) for _ in range(30)]) for _ in range(3)]\n",
    "indels"
   ]
  },
  {
   "cell_type": "markdown",
   "id": "e41386a4-c806-4107-9166-b5fa8cb82289",
   "metadata": {},
   "source": [
    "We take the sequence of the new virus and put the indels:\n",
    "\n",
    "- in the first 300bp\n",
    "- in the repeated region (bases 600-700)\n",
    "- in the last 200bp"
   ]
  },
  {
   "cell_type": "code",
   "execution_count": 16,
   "id": "1b3ae95c-d7fe-4e05-afb4-ee186ec85e56",
   "metadata": {},
   "outputs": [
    {
     "data": {
      "text/plain": [
       "(1000, 1100, 1190)"
      ]
     },
     "execution_count": 16,
     "metadata": {},
     "output_type": "execute_result"
    }
   ],
   "source": [
    "indel_virus = newvirus[:150] + indels[0] + newvirus[150:650] + indels[1] + newvirus[650:950] + indels[2] + newvirus[950:]\n",
    "len(virus), len(newvirus), len(indel_virus)"
   ]
  },
  {
   "cell_type": "code",
   "execution_count": 17,
   "id": "983dfeb6-d8a5-422e-9985-d0c33851bea3",
   "metadata": {},
   "outputs": [
    {
     "data": {
      "text/plain": [
       "1"
      ]
     },
     "execution_count": 17,
     "metadata": {},
     "output_type": "execute_result"
    }
   ],
   "source": [
    "record_indelvirus = SeqRecord(seq=Seq(indel_virus), id=\"indelvirus_query\")\n",
    "\n",
    "SeqIO.write(record_indelvirus, \"indelvirus.fasta\", \"fasta\")"
   ]
  },
  {
   "cell_type": "code",
   "execution_count": 26,
   "id": "2fc327f5-9c70-429c-bf27-201161788232",
   "metadata": {},
   "outputs": [
    {
     "name": "stdout",
     "output_type": "stream",
     "text": [
      "Building alignments\n",
      "1: PREPARING DATA\n",
      "2,3: RUNNING mummer AND CREATING CLUSTERS\n",
      "# reading input file \"out.ntref\" of length 1001\n",
      "# construct suffix tree for sequence of length 1001\n",
      "# (maximum reference length is 2305843009213693948)\n",
      "# (maximum query length is 18446744073709551615)\n",
      "# CONSTRUCTIONTIME /Users/lpritc/opt/anaconda3/envs/pyani_py311/opt/mummer-3.23/mummer out.ntref 0.00\n",
      "# reading input file \"/Users/lpritc/Documents/Development/GitHub/pyani/issue_340/indelvirus.fasta\" of length 1190\n",
      "# matching query-file \"/Users/lpritc/Documents/Development/GitHub/pyani/issue_340/indelvirus.fasta\"\n",
      "# against subject-file \"out.ntref\"\n",
      "# COMPLETETIME /Users/lpritc/opt/anaconda3/envs/pyani_py311/opt/mummer-3.23/mummer out.ntref 0.00\n",
      "# SPACE /Users/lpritc/opt/anaconda3/envs/pyani_py311/opt/mummer-3.23/mummer out.ntref 0.00\n",
      "4: FINISHING DATA\n",
      "Filtering alignments\n",
      "Extracting alignment coordinates\n",
      "Analyzing SNPs\n",
      "Extracting alignment breakpoints\n",
      "Generating report file\n"
     ]
    }
   ],
   "source": [
    "!dnadiff virus.fasta indelvirus.fasta"
   ]
  },
  {
   "cell_type": "code",
   "execution_count": 27,
   "id": "6125be37-3316-4df2-b391-d38673bebdab",
   "metadata": {},
   "outputs": [
    {
     "name": "stdout",
     "output_type": "stream",
     "text": [
      "/Users/lpritc/Documents/Development/GitHub/pyani/issue_340/virus.fasta /Users/lpritc/Documents/Development/GitHub/pyani/issue_340/indelvirus.fasta\n",
      "NUCMER\n",
      "\n",
      "                               [REF]                [QRY]\n",
      "[Sequences]\n",
      "TotalSeqs                          1                    1\n",
      "AlignedSeqs               1(100.00%)           1(100.00%)\n",
      "UnalignedSeqs               0(0.00%)             0(0.00%)\n",
      "\n",
      "[Bases]\n",
      "TotalBases                      1000                 1190\n",
      "AlignedBases           1000(100.00%)         1111(93.36%)\n",
      "UnalignedBases              0(0.00%)            79(6.64%)\n",
      "\n",
      "[Alignments]\n",
      "1-to-1                             2                    2\n",
      "TotalLength                     1051                 1111\n",
      "AvgLength                     525.50               555.50\n",
      "AvgIdentity                    94.60                94.60\n",
      "\n",
      "M-to-M                             2                    2\n",
      "TotalLength                     1051                 1111\n",
      "AvgLength                     525.50               555.50\n",
      "AvgIdentity                    94.60                94.60\n",
      "\n",
      "[Feature Estimates]\n",
      "Breakpoints                        2                    2\n",
      "Relocations                        0                    0\n",
      "Translocations                     0                    0\n",
      "Inversions                         0                    0\n",
      "\n",
      "Insertions                         0                    1\n",
      "InsertionSum                       0                  130\n",
      "InsertionAvg                    0.00               130.00\n",
      "\n",
      "TandemIns                          0                    0\n",
      "TandemInsSum                       0                    0\n",
      "TandemInsAvg                    0.00                 0.00\n",
      "\n",
      "[SNPs]\n",
      "TotalSNPs                          0                    0\n",
      "GA                          0(0.00%)             0(0.00%)\n",
      "GT                          0(0.00%)             0(0.00%)\n",
      "GC                          0(0.00%)             0(0.00%)\n",
      "CA                          0(0.00%)             0(0.00%)\n",
      "CT                          0(0.00%)             0(0.00%)\n",
      "CG                          0(0.00%)             0(0.00%)\n",
      "TG                          0(0.00%)             0(0.00%)\n",
      "TC                          0(0.00%)             0(0.00%)\n",
      "TA                          0(0.00%)             0(0.00%)\n",
      "AT                          0(0.00%)             0(0.00%)\n",
      "AG                          0(0.00%)             0(0.00%)\n",
      "AC                          0(0.00%)             0(0.00%)\n",
      "\n",
      "TotalGSNPs                         0                    0\n",
      "AG                          0(0.00%)             0(0.00%)\n",
      "AC                          0(0.00%)             0(0.00%)\n",
      "AT                          0(0.00%)             0(0.00%)\n",
      "GT                          0(0.00%)             0(0.00%)\n",
      "GC                          0(0.00%)             0(0.00%)\n",
      "GA                          0(0.00%)             0(0.00%)\n",
      "CA                          0(0.00%)             0(0.00%)\n",
      "CG                          0(0.00%)             0(0.00%)\n",
      "CT                          0(0.00%)             0(0.00%)\n",
      "TA                          0(0.00%)             0(0.00%)\n",
      "TC                          0(0.00%)             0(0.00%)\n",
      "TG                          0(0.00%)             0(0.00%)\n",
      "\n",
      "TotalIndels                       60                   60\n",
      "G.                          0(0.00%)           13(21.67%)\n",
      "C.                          0(0.00%)           14(23.33%)\n",
      "T.                          0(0.00%)           12(20.00%)\n",
      "A.                          0(0.00%)           21(35.00%)\n",
      ".A                        21(35.00%)             0(0.00%)\n",
      ".T                        12(20.00%)             0(0.00%)\n",
      ".G                        13(21.67%)             0(0.00%)\n",
      ".C                        14(23.33%)             0(0.00%)\n",
      "\n",
      "TotalGIndels                       0                    0\n",
      "A.                          0(0.00%)             0(0.00%)\n",
      "G.                          0(0.00%)             0(0.00%)\n",
      "C.                          0(0.00%)             0(0.00%)\n",
      "T.                          0(0.00%)             0(0.00%)\n",
      ".A                          0(0.00%)             0(0.00%)\n",
      ".G                          0(0.00%)             0(0.00%)\n",
      ".C                          0(0.00%)             0(0.00%)\n",
      ".T                          0(0.00%)             0(0.00%)\n"
     ]
    }
   ],
   "source": [
    "!cat out.report"
   ]
  },
  {
   "cell_type": "code",
   "execution_count": 28,
   "id": "50054d98-2d0f-4f90-8db0-f78528b83a67",
   "metadata": {},
   "outputs": [
    {
     "name": "stdout",
     "output_type": "stream",
     "text": [
      "150\t.\tG\t151\t0\t150\t1000\t1190\t1\t1\tvirus_ref\tindelvirus_query\n",
      "150\t.\tA\t152\t0\t150\t1000\t1190\t1\t1\tvirus_ref\tindelvirus_query\n",
      "150\t.\tA\t153\t0\t150\t1000\t1190\t1\t1\tvirus_ref\tindelvirus_query\n",
      "150\t.\tA\t154\t0\t150\t1000\t1190\t1\t1\tvirus_ref\tindelvirus_query\n",
      "150\t.\tC\t155\t0\t150\t1000\t1190\t1\t1\tvirus_ref\tindelvirus_query\n",
      "150\t.\tG\t156\t0\t150\t1000\t1190\t1\t1\tvirus_ref\tindelvirus_query\n",
      "150\t.\tC\t157\t0\t150\t1000\t1190\t1\t1\tvirus_ref\tindelvirus_query\n",
      "150\t.\tT\t158\t0\t150\t1000\t1190\t1\t1\tvirus_ref\tindelvirus_query\n",
      "150\t.\tG\t159\t0\t150\t1000\t1190\t1\t1\tvirus_ref\tindelvirus_query\n",
      "150\t.\tC\t160\t0\t150\t1000\t1190\t1\t1\tvirus_ref\tindelvirus_query\n",
      "150\t.\tA\t161\t0\t150\t1000\t1190\t1\t1\tvirus_ref\tindelvirus_query\n",
      "150\t.\tG\t162\t0\t150\t1000\t1190\t1\t1\tvirus_ref\tindelvirus_query\n",
      "150\t.\tC\t163\t0\t150\t1000\t1190\t1\t1\tvirus_ref\tindelvirus_query\n",
      "150\t.\tG\t164\t0\t150\t1000\t1190\t1\t1\tvirus_ref\tindelvirus_query\n",
      "150\t.\tT\t165\t0\t150\t1000\t1190\t1\t1\tvirus_ref\tindelvirus_query\n",
      "150\t.\tA\t166\t0\t150\t1000\t1190\t1\t1\tvirus_ref\tindelvirus_query\n",
      "150\t.\tT\t167\t0\t150\t1000\t1190\t1\t1\tvirus_ref\tindelvirus_query\n",
      "150\t.\tA\t168\t0\t150\t1000\t1190\t1\t1\tvirus_ref\tindelvirus_query\n",
      "150\t.\tG\t169\t0\t150\t1000\t1190\t1\t1\tvirus_ref\tindelvirus_query\n",
      "150\t.\tG\t170\t0\t150\t1000\t1190\t1\t1\tvirus_ref\tindelvirus_query\n",
      "150\t.\tT\t171\t0\t150\t1000\t1190\t1\t1\tvirus_ref\tindelvirus_query\n",
      "150\t.\tA\t172\t0\t150\t1000\t1190\t1\t1\tvirus_ref\tindelvirus_query\n",
      "150\t.\tA\t173\t0\t150\t1000\t1190\t1\t1\tvirus_ref\tindelvirus_query\n",
      "150\t.\tG\t174\t0\t150\t1000\t1190\t1\t1\tvirus_ref\tindelvirus_query\n",
      "150\t.\tA\t175\t0\t150\t1000\t1190\t1\t1\tvirus_ref\tindelvirus_query\n",
      "150\t.\tA\t176\t0\t150\t1000\t1190\t1\t1\tvirus_ref\tindelvirus_query\n",
      "150\t.\tA\t177\t0\t150\t1000\t1190\t1\t1\tvirus_ref\tindelvirus_query\n",
      "150\t.\tG\t178\t0\t150\t1000\t1190\t1\t1\tvirus_ref\tindelvirus_query\n",
      "150\t.\tA\t179\t0\t150\t1000\t1190\t1\t1\tvirus_ref\tindelvirus_query\n",
      "150\t.\tG\t180\t0\t150\t1000\t1190\t1\t1\tvirus_ref\tindelvirus_query\n",
      "850\t.\tA\t1011\t0\t151\t1000\t1190\t1\t1\tvirus_ref\tindelvirus_query\n",
      "850\t.\tA\t1012\t0\t151\t1000\t1190\t1\t1\tvirus_ref\tindelvirus_query\n",
      "850\t.\tC\t1013\t0\t151\t1000\t1190\t1\t1\tvirus_ref\tindelvirus_query\n",
      "850\t.\tC\t1014\t0\t151\t1000\t1190\t1\t1\tvirus_ref\tindelvirus_query\n",
      "850\t.\tT\t1015\t0\t151\t1000\t1190\t1\t1\tvirus_ref\tindelvirus_query\n",
      "850\t.\tG\t1016\t0\t151\t1000\t1190\t1\t1\tvirus_ref\tindelvirus_query\n",
      "850\t.\tG\t1017\t0\t151\t1000\t1190\t1\t1\tvirus_ref\tindelvirus_query\n",
      "850\t.\tC\t1018\t0\t151\t1000\t1190\t1\t1\tvirus_ref\tindelvirus_query\n",
      "850\t.\tA\t1019\t0\t151\t1000\t1190\t1\t1\tvirus_ref\tindelvirus_query\n",
      "850\t.\tT\t1020\t0\t151\t1000\t1190\t1\t1\tvirus_ref\tindelvirus_query\n",
      "850\t.\tT\t1021\t0\t151\t1000\t1190\t1\t1\tvirus_ref\tindelvirus_query\n",
      "850\t.\tC\t1022\t0\t151\t1000\t1190\t1\t1\tvirus_ref\tindelvirus_query\n",
      "850\t.\tT\t1023\t0\t151\t1000\t1190\t1\t1\tvirus_ref\tindelvirus_query\n",
      "850\t.\tC\t1024\t0\t151\t1000\t1190\t1\t1\tvirus_ref\tindelvirus_query\n",
      "850\t.\tC\t1025\t0\t151\t1000\t1190\t1\t1\tvirus_ref\tindelvirus_query\n",
      "850\t.\tC\t1026\t0\t151\t1000\t1190\t1\t1\tvirus_ref\tindelvirus_query\n",
      "850\t.\tG\t1027\t0\t151\t1000\t1190\t1\t1\tvirus_ref\tindelvirus_query\n",
      "850\t.\tT\t1028\t0\t151\t1000\t1190\t1\t1\tvirus_ref\tindelvirus_query\n",
      "850\t.\tC\t1029\t0\t151\t1000\t1190\t1\t1\tvirus_ref\tindelvirus_query\n",
      "850\t.\tT\t1030\t0\t151\t1000\t1190\t1\t1\tvirus_ref\tindelvirus_query\n",
      "850\t.\tA\t1031\t0\t151\t1000\t1190\t1\t1\tvirus_ref\tindelvirus_query\n",
      "850\t.\tA\t1032\t0\t151\t1000\t1190\t1\t1\tvirus_ref\tindelvirus_query\n",
      "850\t.\tC\t1033\t0\t151\t1000\t1190\t1\t1\tvirus_ref\tindelvirus_query\n",
      "850\t.\tT\t1034\t0\t151\t1000\t1190\t1\t1\tvirus_ref\tindelvirus_query\n",
      "850\t.\tA\t1035\t0\t151\t1000\t1190\t1\t1\tvirus_ref\tindelvirus_query\n",
      "850\t.\tA\t1036\t0\t151\t1000\t1190\t1\t1\tvirus_ref\tindelvirus_query\n",
      "850\t.\tA\t1037\t0\t151\t1000\t1190\t1\t1\tvirus_ref\tindelvirus_query\n",
      "850\t.\tA\t1038\t0\t151\t1000\t1190\t1\t1\tvirus_ref\tindelvirus_query\n",
      "850\t.\tC\t1039\t0\t151\t1000\t1190\t1\t1\tvirus_ref\tindelvirus_query\n",
      "850\t.\tT\t1040\t0\t151\t1000\t1190\t1\t1\tvirus_ref\tindelvirus_query\n"
     ]
    }
   ],
   "source": [
    "!cat out.snps"
   ]
  },
  {
   "cell_type": "code",
   "execution_count": 29,
   "id": "711fcc8b-d003-41a5-916b-d7391d8e4221",
   "metadata": {},
   "outputs": [
    {
     "name": "stdout",
     "output_type": "stream",
     "text": [
      "1\t600\t1\t630\t600\t630\t95.24\t1000\t1190\t60.00\t52.94\tvirus_ref\tindelvirus_query\n",
      "550\t1000\t710\t1190\t451\t481\t93.76\t1000\t1190\t45.10\t40.42\tvirus_ref\tindelvirus_query\n"
     ]
    }
   ],
   "source": [
    "!cat out.mcoords"
   ]
  },
  {
   "cell_type": "code",
   "execution_count": null,
   "id": "74ecd65e-1fb3-4da5-8456-4649b04eabc0",
   "metadata": {},
   "outputs": [],
   "source": []
  }
 ],
 "metadata": {
  "kernelspec": {
   "display_name": "Python 3 (ipykernel)",
   "language": "python",
   "name": "python3"
  },
  "language_info": {
   "codemirror_mode": {
    "name": "ipython",
    "version": 3
   },
   "file_extension": ".py",
   "mimetype": "text/x-python",
   "name": "python",
   "nbconvert_exporter": "python",
   "pygments_lexer": "ipython3",
   "version": "3.11.7"
  }
 },
 "nbformat": 4,
 "nbformat_minor": 5
}
