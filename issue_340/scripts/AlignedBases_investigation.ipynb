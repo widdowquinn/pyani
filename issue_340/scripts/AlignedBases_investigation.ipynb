{
 "cells": [
  {
   "cell_type": "markdown",
   "id": "9c352e2c",
   "metadata": {},
   "source": [
    "# AlignedBases Incongruencies Investigation\n",
    "As detailed in `issue_340_info.md` we attempted to replicate the `AlignedBases` values outputed by `dnadiff`. Unfortunately, our current code only replicates the values for some cases. In this jupyter notebook we try to determine what causes the incongruencies in `AligedBases` values given by `dnadiff` and our code. \n",
    "\n",
    "In this investigation, we will focus two _Streptomyces_ geomes which give us incongruent results. Data avaliable in `issue_340_test_AK/inputs/test_1`."
   ]
  },
  {
   "cell_type": "markdown",
   "id": "ca933bc4",
   "metadata": {},
   "source": [
    "__What can we do?__\n",
    "\n",
    "`dnadiff` determines which genome sequences were aligned at least once. It subsequently updates the `AlignedBases` value by considering the total length of those sequences (both aligned and unaligned regions). This total is then refined by subtracting the gaps in the alignment, as provided in the associated `.rdiff` file. These gaps, are derivered/identified by `SHOW_DIFF` program. Whre, in our implementation, we identify the total length of aligned regions (no unaligned regions, but includes overlaps if there are any). Subsequently, we find the overlapping regions and subtract them from the value. \n",
    "\n",
    "As we already have the information about the exact position of the aligments, we can identy the `gaps` (unaligned regions) and compare them to the ones provided in `.rdiff` file. This can help us determine was causes the diffrence in reporting diffrent number of `AligedBases`."
   ]
  },
  {
   "cell_type": "markdown",
   "id": "072874b7",
   "metadata": {},
   "source": [
    "__Set Up__"
   ]
  },
  {
   "cell_type": "code",
   "execution_count": 14,
   "id": "70b828f7",
   "metadata": {},
   "outputs": [],
   "source": [
    "from pathlib import Path\n",
    "from collections import defaultdict\n",
    "import intervaltree\n",
    "import pandas as pd\n",
    "from Bio import SeqIO"
   ]
  },
  {
   "cell_type": "markdown",
   "id": "c9087836",
   "metadata": {},
   "source": [
    "__Step 1:__ Identification of regions that are currently assumed not aligned in our code.\n",
    "\n",
    "Here, we reuse our code which we written to get the all aligned regions (with overlaps)."
   ]
  },
  {
   "cell_type": "code",
   "execution_count": 15,
   "id": "fb601205",
   "metadata": {},
   "outputs": [],
   "source": [
    "def parse_delta(infname):\n",
    "    \"\"\"Parse delta files, and return all\n",
    "    aligned regions (with overlaps). \n",
    "\n",
    "    :param infname: Path to delta file\n",
    "    \"\"\"\n",
    "\n",
    "    current_ref = None\n",
    "    current_qry = None\n",
    "\n",
    "    regions_ref = defaultdict(list) #Hold a dictionary for refence regions\n",
    "    regions_qry = defaultdict(list) #Hold a dictionary for query regions\n",
    "\n",
    "    insertions_ref_positions = defaultdict(list)\n",
    "    insertions_qry_positions = defaultdict(list)\n",
    "\n",
    "\n",
    "    for line in [_.strip().split() for _ in infname.open(\"r\").readlines()]:\n",
    "\n",
    "            if line[0] == \"NUCMER\":  # Skip headers\n",
    "                    continue\n",
    "            if line[0].startswith(\">\"):\n",
    "                current_ref = line[0].strip('>')\n",
    "                current_qry = line[1]\n",
    "            if len(line) == 7:\n",
    "                regions_ref[current_ref].append(tuple(sorted(list([int(line[0]), int(line[1])])))) #aligned regions reference\n",
    "                regions_qry[current_qry].append(tuple(sorted(list([int(line[2]), int(line[3])])))) #aligned regions qry\n",
    "            \n",
    "    return regions_ref"
   ]
  },
  {
   "cell_type": "code",
   "execution_count": 16,
   "id": "cdb98975",
   "metadata": {},
   "outputs": [],
   "source": [
    "test_1 = parse_delta(Path(\"../issue_340_tests_AK/outputs_dnadiff/test_1/test_1.mdelta\"))"
   ]
  },
  {
   "cell_type": "markdown",
   "id": "983ada10",
   "metadata": {},
   "source": [
    "Now, we can merge the overlapping regions with `IntervalTree` like before."
   ]
  },
  {
   "cell_type": "code",
   "execution_count": 17,
   "id": "079559a9",
   "metadata": {},
   "outputs": [],
   "source": [
    "seq_regions_no_overlaps = defaultdict(list)\n",
    "\n",
    "for key in test_1:\n",
    "    ref_tree = intervaltree.IntervalTree.from_tuples(test_1[key])\n",
    "    ref_tree.merge_overlaps(strict=False)\n",
    "    for _ in sorted(ref_tree):\n",
    "        seq_regions_no_overlaps[key].append(tuple([_[0], _[1]]))"
   ]
  },
  {
   "cell_type": "markdown",
   "id": "4cc9e066",
   "metadata": {},
   "source": [
    "Create a dictionary with all sequences and their lengths found in a genome"
   ]
  },
  {
   "cell_type": "code",
   "execution_count": 18,
   "id": "a458c3f5",
   "metadata": {},
   "outputs": [
    {
     "name": "stdout",
     "output_type": "stream",
     "text": [
      "{'NZ_CP026730.1': 7787608}\n"
     ]
    }
   ],
   "source": [
    "records = list(SeqIO.parse(\"../issue_340_tests_AK/inputs/test_1/GCF_003369795.1_ASM336979v1_genomic.fna\", \"fasta\"))\n",
    "refs = {record.id:len(record.seq) for record in records}\n",
    "print(refs)"
   ]
  },
  {
   "cell_type": "markdown",
   "id": "97e1234d",
   "metadata": {},
   "source": [
    "Finding unaligned regions."
   ]
  },
  {
   "cell_type": "code",
   "execution_count": 19,
   "id": "7b88c379",
   "metadata": {},
   "outputs": [],
   "source": [
    "\n",
    "def find_non_aligned_regions(sequence_lengths, aligned_regions):\n",
    "    \"\"\"Find and return unalgned regions. \n",
    "    \n",
    "    The returned data will be a dictionary, with the following format:\n",
    "    {<sequence_id>:[(gap_start, gap_end)]}\n",
    "    \n",
    "    :param sequence_lengths: dictionary with sequence lengths keyed by squence id\n",
    "    :aligned_regions: dictionary with aligned regions keyed by sequence id\n",
    "    \n",
    "    \n",
    "    \"\"\"\n",
    "    non_aligned_regions = {}\n",
    "\n",
    "    for sequence_id, sequence_length in sequence_lengths.items():\n",
    "        aligned_ranges = aligned_regions[sequence_id]\n",
    "\n",
    "        non_aligned = []\n",
    "\n",
    "        if aligned_ranges[0][0] > 1:\n",
    "            non_aligned.append((1, aligned_ranges[0][0] - 1))\n",
    "\n",
    "\n",
    "        for i in range(1, len(aligned_ranges)):\n",
    "            non_aligned.append((aligned_ranges[i - 1][1] + 1, aligned_ranges[i][0] - 1))\n",
    "            \n",
    "\n",
    "        if aligned_ranges[-1][1] < sequence_length:\n",
    "            non_aligned.append((aligned_ranges[-1][1] + 1, sequence_length))\n",
    "\n",
    "        non_aligned_regions[sequence_id] = non_aligned\n",
    "\n",
    "    return non_aligned_regions\n",
    "\n",
    "\n",
    "gaps = find_non_aligned_regions(refs, seq_regions_no_overlaps)\n",
    "\n",
    "#Create a dataframe with each row containing information about the gap_start, gap_end and the sequence id\n",
    "df = pd.DataFrame(columns=['sequence_id', 'gap_start', 'gap_end', 'method'])\n",
    "\n",
    "for sequence_id, values in result.items():\n",
    "    for start, end in values:\n",
    "        df.loc[len(df)] = [sequence_id, start, end, 'IntervalTree']"
   ]
  },
  {
   "cell_type": "markdown",
   "id": "93a631ac",
   "metadata": {},
   "source": [
    "Identification of gaps that do not match.\n",
    "\n",
    "Here, we can look at the `.rdiff` file to find rows that do not match based on values in `seuqnece_id`, `gap_start` and `gap_end` columns."
   ]
  },
  {
   "cell_type": "code",
   "execution_count": 24,
   "id": "dc716bf2",
   "metadata": {},
   "outputs": [],
   "source": [
    "rdiff = pd.read_csv(Path(\"../issue_340_tests_AK/outputs_dnadiff/test_1/test_1.rdiff\"), sep='\\t', names=['sequence_id', 'feature', 'gap_start', 'gap_end', 'gap_length', 'previous_seq', 'next_seq'])"
   ]
  },
  {
   "cell_type": "code",
   "execution_count": 25,
   "id": "ca602cce",
   "metadata": {},
   "outputs": [],
   "source": [
    "rdiff = rdiff[(rdiff['gap_length'] >= 0) & (rdiff['feature'] != 'DUP')]"
   ]
  },
  {
   "cell_type": "code",
   "execution_count": 26,
   "id": "18822ab8",
   "metadata": {
    "scrolled": true
   },
   "outputs": [
    {
     "data": {
      "text/html": [
       "<div>\n",
       "<style scoped>\n",
       "    .dataframe tbody tr th:only-of-type {\n",
       "        vertical-align: middle;\n",
       "    }\n",
       "\n",
       "    .dataframe tbody tr th {\n",
       "        vertical-align: top;\n",
       "    }\n",
       "\n",
       "    .dataframe thead th {\n",
       "        text-align: right;\n",
       "    }\n",
       "</style>\n",
       "<table border=\"1\" class=\"dataframe\">\n",
       "  <thead>\n",
       "    <tr style=\"text-align: right;\">\n",
       "      <th></th>\n",
       "      <th>sequence_id</th>\n",
       "      <th>gap_start</th>\n",
       "      <th>gap_end</th>\n",
       "      <th>method</th>\n",
       "      <th>feature</th>\n",
       "      <th>gap_length</th>\n",
       "      <th>previous_seq</th>\n",
       "      <th>next_seq</th>\n",
       "    </tr>\n",
       "  </thead>\n",
       "  <tbody>\n",
       "    <tr>\n",
       "      <th>2572</th>\n",
       "      <td>NZ_CP026730.1</td>\n",
       "      <td>4258702.0</td>\n",
       "      <td>4263070.0</td>\n",
       "      <td>IntervalTree</td>\n",
       "      <td>NaN</td>\n",
       "      <td>NaN</td>\n",
       "      <td>NaN</td>\n",
       "      <td>NaN</td>\n",
       "    </tr>\n",
       "    <tr>\n",
       "      <th>4321</th>\n",
       "      <td>NZ_CP026730.1</td>\n",
       "      <td>4258702.0</td>\n",
       "      <td>4263071.0</td>\n",
       "      <td>NaN</td>\n",
       "      <td>SEQ</td>\n",
       "      <td>4370.0</td>\n",
       "      <td>lcl|NZ_CP043317.1_cds_WP_194276459.1_3169</td>\n",
       "      <td>lcl|NZ_CP043317.1_cds_WP_194276455.1_3164</td>\n",
       "    </tr>\n",
       "  </tbody>\n",
       "</table>\n",
       "</div>"
      ],
      "text/plain": [
       "        sequence_id  gap_start    gap_end        method feature  gap_length  \\\n",
       "2572  NZ_CP026730.1  4258702.0  4263070.0  IntervalTree     NaN         NaN   \n",
       "4321  NZ_CP026730.1  4258702.0  4263071.0           NaN     SEQ      4370.0   \n",
       "\n",
       "                                   previous_seq  \\\n",
       "2572                                        NaN   \n",
       "4321  lcl|NZ_CP043317.1_cds_WP_194276459.1_3169   \n",
       "\n",
       "                                       next_seq  \n",
       "2572                                        NaN  \n",
       "4321  lcl|NZ_CP043317.1_cds_WP_194276455.1_3164  "
      ]
     },
     "execution_count": 26,
     "metadata": {},
     "output_type": "execute_result"
    }
   ],
   "source": [
    "# Merge the DataFrames on the specified columns\n",
    "merged_df = df.merge(rdiff, on=['sequence_id', 'gap_start', 'gap_end'], how='outer', indicator=True)\n",
    "\n",
    "# Filter rows where the indicator column has the value 'left_only' or 'right_only'\n",
    "rows_not_matching = merged_df.query('_merge != \"both\"').drop(columns=['_merge'])\n",
    "\n",
    "\n",
    "rows_not_matching"
   ]
  },
  {
   "cell_type": "markdown",
   "id": "ca88dcf2",
   "metadata": {},
   "source": [
    "Through this investigation, we found that although our code identified a gap with the same start position as the one identified by show-diff, our gap end is shorter by 1 bp.\n",
    "\n",
    "FWIW, I think looking at the delta mcoords file to identify which sequences (both reference and query) are associated with these regions and re-running the analysis strictly on them, then examining this again."
   ]
  }
 ],
 "metadata": {
  "kernelspec": {
   "display_name": "Python 3 (ipykernel)",
   "language": "python",
   "name": "python3"
  },
  "language_info": {
   "codemirror_mode": {
    "name": "ipython",
    "version": 3
   },
   "file_extension": ".py",
   "mimetype": "text/x-python",
   "name": "python",
   "nbconvert_exporter": "python",
   "pygments_lexer": "ipython3",
   "version": "3.9.9"
  }
 },
 "nbformat": 4,
 "nbformat_minor": 5
}
