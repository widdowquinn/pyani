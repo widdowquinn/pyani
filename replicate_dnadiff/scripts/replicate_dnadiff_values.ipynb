{
 "cells": [
  {
   "cell_type": "markdown",
   "id": "38358dfe-0eb1-4de5-8b3e-b869bc616e89",
   "metadata": {},
   "source": [
    "# Replication of dnadiff results\n",
    "\n",
    "This `notebook` contains all code and command lines, needed to replicate values returned by `dnadiff`. "
   ]
  },
  {
   "cell_type": "code",
   "execution_count": 1,
   "id": "f0ddb8a6-a597-4943-9253-33d4e25db980",
   "metadata": {},
   "outputs": [],
   "source": [
    "# Set Up\n",
    "import os\n",
    "from Bio import SeqIO\n",
    "import pandas as pd\n",
    "from pathlib import Path"
   ]
  },
  {
   "cell_type": "markdown",
   "id": "f408266c-33f0-46ee-80ef-859d469d5ff2",
   "metadata": {},
   "source": [
    "First, we need to run four comands to generate all files needed for calulcations. \n",
    "\n",
    "This will include:\n",
    "- `nucmer` to generate alignments with `--maxmatch` parameter\n",
    "- `delta-filter` to generate M-to-M alignments by calling `-m` paratemter\n",
    "- `show-coords` to generate `.coords` file needed to calculate `AlignedBases` and `AverageIdentity`\n",
    "- `show-diff` to generate `.rdiff` files needed for `AlignedBases` calculation"
   ]
  },
  {
   "cell_type": "code",
   "execution_count": 2,
   "id": "42c3a783-f7b4-428f-bc5b-baa8ca114ab3",
   "metadata": {},
   "outputs": [],
   "source": [
    "def run_command_lines(input_genomes):\n",
    "    \"\"\"Run cmmd lines to generate\n",
    "    `.mcoords` and `diff` files with\n",
    "    the same settings as dnadiff. \n",
    "    \"\"\"\n",
    "\n",
    "    input_dir = Path(input_genomes)\n",
    "    output_dir = input_dir.parent\n",
    "\n",
    "    fasta = sorted(fname for fname in input_dir.iterdir() if '.DS_Store' not in str(fname))\n",
    "\n",
    "    #Running Nucmer\n",
    "    os.system(f\"nucmer --maxmatch -p {output_dir}/output/output {fasta[0]} {fasta[1]}\")\n",
    "\n",
    "    #Running delta\n",
    "    os.system(f\"delta-filter -m {output_dir}/output/output.delta > {output_dir}/output/output.mdelta\") \n",
    "\n",
    "    #Running show-coords\n",
    "    os.system(f\"show-coords -rclTH {output_dir}/output/output.mdelta > {output_dir}/output/output.mcoords\")\n",
    "\n",
    "    #Running \n",
    "    os.system(f\"show-diff -rH {output_dir}/output/output.mdelta > {output_dir}/output/output.rdiff\")\n",
    "    \n",
    "\n",
    "    "
   ]
  },
  {
   "cell_type": "markdown",
   "id": "2cc3aa66-2ca2-4ec2-83e5-b8b93be54d37",
   "metadata": {},
   "source": [
    "__Replication of AlignedBases value__"
   ]
  },
  {
   "cell_type": "code",
   "execution_count": 3,
   "id": "85bdbf1b-fb53-4d6c-8ded-eec7ee9dc2a4",
   "metadata": {},
   "outputs": [],
   "source": [
    "def AlignedBases(genome_seq, mcoords_file, rdiff_file):\n",
    "    \"\"\"Calculate and return AlignedBases value\n",
    "    using the same approach as implemented by dnadiff.\n",
    "\n",
    "    :param genome_seq: Path to a genome's sequence used in the analysis\n",
    "    :param mcoords_file: Path to the mcoords file outputed by dnadiff\n",
    "    :param rdiff_file: Path to the rdiff file outputed by dnadiff\n",
    "    \"\"\"\n",
    "\n",
    "    #Step 1. Getting basic sequence information\n",
    "\n",
    "    rnSeqs = 0\n",
    "    rnBases = 0\n",
    "    rnABases = 0\n",
    "    TotalBases = 0\n",
    "\n",
    "    records = list(SeqIO.parse(Path(genome_seq), \"fasta\"))\n",
    "    refs = {record.id:len(record.seq) for record in records}\n",
    "\n",
    "    for sequence_id, sequence_length in refs.items():\n",
    "        rnSeqs += 1\n",
    "        rnBases += sequence_length\n",
    "        TotalBases += sequence_length\n",
    "\n",
    "    #Step 2. Retriving information from M-to-M alignments (mcoords)\n",
    "    rqnAlignsM = 0\n",
    "    rSumLenM = 0\n",
    "    rqSumIdyM = 0\n",
    "    rqSumLenM = 0\n",
    "    rnASeqs = 0\n",
    "\n",
    "    mcoords = pd.read_csv(Path(mcoords_file), sep='\\t', names=[f\"col_{_}\" for _ in range(0,13)])\n",
    "\n",
    "    for index, row in mcoords.iterrows():\n",
    "        rqnAlignsM += 1\n",
    "        rSumLenM += row['col_4']\n",
    "        rqSumIdyM += (row['col_6']/100) * (row['col_4'] + row['col_5'])\n",
    "        rqSumLenM += (row['col_4'] + row['col_5'])\n",
    "\n",
    "    seen_ref_seq = []\n",
    "    for index, row in mcoords.iterrows():\n",
    "        if row['col_11'] not in seen_ref_seq:\n",
    "            rnASeqs += 1\n",
    "            rnABases += refs[row['col_11']]\n",
    "            seen_ref_seq.append(row['col_11'])\n",
    "\n",
    "    #Step 3: Retrive information from `.rdiff` files, and updating the AlignedBases values\n",
    "    rdiff = pd.read_csv(Path(rdiff_file), sep='\\t', names=[f\"col_{_}\" for _ in range(0,7)])\n",
    "\n",
    "    rnTIns = 0\n",
    "    rSumTIns = 0\n",
    "    rnIns = 0\n",
    "    rSumIns = 0\n",
    "\n",
    "    for index, row in rdiff.iterrows():\n",
    "        gap = row['col_4']\n",
    "        ins = gap\n",
    "        if row['col_1'] == 'GAP':\n",
    "            if int(row['col_6']) > gap:\n",
    "                ins = row['col_6']\n",
    "            if int(row['col_4']) <=0 and int(row['col_5']) <=0 and int(row['col_6']) >0:\n",
    "                rnTIns +=1\n",
    "                rSumTIns += int(row['col_6'])\n",
    "        if row['col_1'] != 'DUP' and gap >0:\n",
    "            rnABases -= gap\n",
    "        if int(ins) >0:\n",
    "            rnIns +=1\n",
    "            rSumIns += int(ins)\n",
    "\n",
    "    #Step 4: Genome Coverage calculation\n",
    "\n",
    "    GenomeCov = rnABases / TotalBases\n",
    "\n",
    "    return rnABases, GenomeCov"
   ]
  },
  {
   "cell_type": "markdown",
   "id": "edac9efb-e89a-452a-8e9a-fcbc0de1dd8f",
   "metadata": {},
   "source": [
    "__Replication of AverageIdentity value__"
   ]
  },
  {
   "cell_type": "code",
   "execution_count": 4,
   "id": "dbdfbc99-cf9e-4a12-ae2e-e4414dbf2def",
   "metadata": {},
   "outputs": [],
   "source": [
    "def AverageIdentity(coords_file):\n",
    "    \"\"\"Calculate and return AverageIdentity\n",
    "    value from coords files.\n",
    "\n",
    "    :param coords_file: Path to coords file\n",
    "\n",
    "    \"\"\"\n",
    "\n",
    "    \n",
    "    # Calculating values from coord files\n",
    "    coords1 = pd.read_csv(\n",
    "        Path(coords_file), sep=\"\\t\", header=None\n",
    "    )\n",
    "    column_names = [f\"col_{i}\" for i in range(0, len(coords1.columns))]\n",
    "    coords1.columns = column_names\n",
    "    \n",
    "    reqSumIdy1 = 0\n",
    "    rqSumLen1 = 0\n",
    "    \n",
    "    \n",
    "    for index, row in coords1.iterrows():\n",
    "        reqSumIdy1 += (row[\"col_6\"] / 100) * (row[\"col_4\"] + row[\"col_5\"])\n",
    "    \n",
    "        rqSumLen1 += row[\"col_4\"] + row[\"col_5\"]\n",
    "    \n",
    "    AverageID = round(reqSumIdy1 / rqSumLen1 * 100, 2)\n",
    "    \n",
    "    return AverageID"
   ]
  },
  {
   "cell_type": "markdown",
   "id": "f4d3239a-b286-4854-9471-d39e5d230825",
   "metadata": {},
   "source": [
    "Running the analysis on `donovan_AF_bug`"
   ]
  },
  {
   "cell_type": "code",
   "execution_count": 5,
   "id": "0675a0b5-290c-4108-9f33-c745767d836b",
   "metadata": {},
   "outputs": [
    {
     "name": "stdout",
     "output_type": "stream",
     "text": [
      "(87285, 1.0)\n",
      "99.94\n"
     ]
    },
    {
     "name": "stderr",
     "output_type": "stream",
     "text": [
      "1: PREPARING DATA\n",
      "2,3: RUNNING mummer AND CREATING CLUSTERS\n",
      "# reading input file \"../data/donovan_AF_bug/output/output.ntref\" of length 87286\n",
      "# construct suffix tree for sequence of length 87286\n",
      "# (maximum reference length is 2305843009213693948)\n",
      "# (maximum query length is 18446744073709551615)\n",
      "# CONSTRUCTIONTIME /opt/anaconda3/envs/pyani_issue_421/opt/mummer-3.23/mummer ../data/donovan_AF_bug/output/output.ntref 0.01\n",
      "# reading input file \"/Users/angelikakiepas/Desktop/pyani_all/pyani/replicate_dnadiff/scripts/../data/donovan_AF_bug/input/MGV-GENOME-0358017.fna\" of length 87353\n",
      "# matching query-file \"/Users/angelikakiepas/Desktop/pyani_all/pyani/replicate_dnadiff/scripts/../data/donovan_AF_bug/input/MGV-GENOME-0358017.fna\"\n",
      "# against subject-file \"../data/donovan_AF_bug/output/output.ntref\"\n",
      "# COMPLETETIME /opt/anaconda3/envs/pyani_issue_421/opt/mummer-3.23/mummer ../data/donovan_AF_bug/output/output.ntref 0.04\n",
      "# SPACE /opt/anaconda3/envs/pyani_issue_421/opt/mummer-3.23/mummer ../data/donovan_AF_bug/output/output.ntref 0.17\n",
      "4: FINISHING DATA\n"
     ]
    }
   ],
   "source": [
    "run_command_lines(\"../data/donovan_AF_bug/input\")\n",
    "print(AlignedBases(\"../data/donovan_AF_bug/input/MGV-GENOME-0357962.fna\", \"../data/donovan_AF_bug/output/output.mcoords\", \"../data/donovan_AF_bug/output/output.rdiff\"))\n",
    "print(AverageIdentity(\"../data/donovan_AF_bug/output/output.mcoords\"))"
   ]
  },
  {
   "cell_type": "markdown",
   "id": "0dabc595-ba2a-4f12-8923-cd3454e9ba9e",
   "metadata": {},
   "source": [
    "Comparing these to the dnadiff output"
   ]
  },
  {
   "cell_type": "code",
   "execution_count": 6,
   "id": "4262c6c5-0cdd-4255-95fe-55e08a419123",
   "metadata": {},
   "outputs": [
    {
     "name": "stdout",
     "output_type": "stream",
     "text": [
      "cat: 10: No such file or directory\n",
      "/Users/angelikakiepas/Desktop/pyani/issue_421/rounding_error/scripts/../data/donovan_AF_bug/input/MGV-GENOME-0357962.fna /Users/angelikakiepas/Desktop/pyani/issue_421/rounding_error/scripts/../data/donovan_AF_bug/input/MGV-GENOME-0358017.fna\n",
      "NUCMER\n",
      "\n",
      "                               [REF]                [QRY]\n",
      "[Sequences]\n",
      "TotalSeqs                          1                    1\n",
      "AlignedSeqs               1(100.00%)           1(100.00%)\n",
      "UnalignedSeqs               0(0.00%)             0(0.00%)\n",
      "\n",
      "[Bases]\n",
      "TotalBases                     87285                87353\n",
      "AlignedBases          87285(100.00%)       87353(100.00%)\n",
      "UnalignedBases              0(0.00%)             0(0.00%)\n",
      "\n",
      "[Alignments]\n",
      "1-to-1                             3                    3\n",
      "TotalLength                    87496                87510\n",
      "AvgLength                   29165.33             29170.00\n",
      "AvgIdentity                    99.94                99.94\n",
      "\n",
      "M-to-M                             3                    3\n",
      "TotalLength                    87496                87510\n",
      "AvgLength                   29165.33             29170.00\n",
      "AvgIdentity                    99.94                99.94\n",
      "\n"
     ]
    }
   ],
   "source": [
    "!cat 10 ../data/donovan_AF_bug/output/dnadiff/output.report | head -n 25"
   ]
  },
  {
   "cell_type": "markdown",
   "id": "a208dc0f-883e-4a80-b1e3-9a7c1bd0c72f",
   "metadata": {},
   "source": [
    "Running the analysis on `donovan`\\'s second example. "
   ]
  },
  {
   "cell_type": "code",
   "execution_count": 7,
   "id": "edf8ecfa-a6ac-42db-81aa-25c203efb479",
   "metadata": {},
   "outputs": [
    {
     "name": "stderr",
     "output_type": "stream",
     "text": [
      "1: PREPARING DATA\n",
      "2,3: RUNNING mummer AND CREATING CLUSTERS\n",
      "# reading input file \"../data/donovan_test/output/output.ntref\" of length 39254\n",
      "# construct suffix tree for sequence of length 39254\n",
      "# (maximum reference length is 2305843009213693948)\n",
      "# (maximum query length is 18446744073709551615)\n",
      "# CONSTRUCTIONTIME /opt/anaconda3/envs/pyani_issue_421/opt/mummer-3.23/mummer ../data/donovan_test/output/output.ntref 0.00\n",
      "# reading input file \"/Users/angelikakiepas/Desktop/pyani_all/pyani/replicate_dnadiff/scripts/../data/donovan_test/input/MGV-GENOME-0266457.fna\" of length 39594\n",
      "# matching query-file \"/Users/angelikakiepas/Desktop/pyani_all/pyani/replicate_dnadiff/scripts/../data/donovan_test/input/MGV-GENOME-0266457.fna\"\n",
      "# against subject-file \"../data/donovan_test/output/output.ntref\"\n",
      "# COMPLETETIME /opt/anaconda3/envs/pyani_issue_421/opt/mummer-3.23/mummer ../data/donovan_test/output/output.ntref 0.01\n",
      "# SPACE /opt/anaconda3/envs/pyani_issue_421/opt/mummer-3.23/mummer ../data/donovan_test/output/output.ntref 0.08\n",
      "4: FINISHING DATA\n"
     ]
    },
    {
     "name": "stdout",
     "output_type": "stream",
     "text": [
      "(39169, 0.997860036175579)\n",
      "99.63\n"
     ]
    }
   ],
   "source": [
    "run_command_lines(\"../data/donovan_test/input\")\n",
    "print(AlignedBases(\"../data/donovan_test/input/MGV-GENOME-0264574.fna\", \"../data/donovan_test/output/output.mcoords\", \"../data/donovan_test/output/output.rdiff\"))\n",
    "print(AverageIdentity(\"../data/donovan_test/output/output.mcoords\"))"
   ]
  },
  {
   "cell_type": "code",
   "execution_count": 8,
   "id": "58a18df9-d24b-4243-93f8-c266b1317f5c",
   "metadata": {},
   "outputs": [
    {
     "name": "stdout",
     "output_type": "stream",
     "text": [
      "cat: 10: No such file or directory\n",
      "/Users/angelikakiepas/Desktop/pyani/issue_421/rounding_error/scripts/../data/donovan_test/input/MGV-GENOME-0264574.fna /Users/angelikakiepas/Desktop/pyani/issue_421/rounding_error/scripts/../data/donovan_test/input/MGV-GENOME-0266457.fna\n",
      "NUCMER\n",
      "\n",
      "                               [REF]                [QRY]\n",
      "[Sequences]\n",
      "TotalSeqs                          1                    1\n",
      "AlignedSeqs               1(100.00%)           1(100.00%)\n",
      "UnalignedSeqs               0(0.00%)             0(0.00%)\n",
      "\n",
      "[Bases]\n",
      "TotalBases                     39253                39594\n",
      "AlignedBases           39169(99.79%)        39176(98.94%)\n",
      "UnalignedBases             84(0.21%)           418(1.06%)\n",
      "\n",
      "[Alignments]\n",
      "1-to-1                             2                    2\n",
      "TotalLength                    59174                59187\n",
      "AvgLength                   29587.00             29593.50\n",
      "AvgIdentity                    99.63                99.63\n",
      "\n",
      "M-to-M                             2                    2\n",
      "TotalLength                    59174                59187\n",
      "AvgLength                   29587.00             29593.50\n",
      "AvgIdentity                    99.63                99.63\n",
      "\n"
     ]
    }
   ],
   "source": [
    "!cat 10 ../data/donovan_test/output/dnadiff/output.report | head -n 25"
   ]
  },
  {
   "cell_type": "markdown",
   "id": "a1c86ded-9616-485c-89e1-836c00f08cdb",
   "metadata": {},
   "source": [
    "Running the analysis on two _Streptomyces_ genomes"
   ]
  },
  {
   "cell_type": "code",
   "execution_count": 9,
   "id": "4ee4f3a0-7685-4254-8059-0538d6a5ea1a",
   "metadata": {},
   "outputs": [
    {
     "name": "stderr",
     "output_type": "stream",
     "text": [
      "1: PREPARING DATA\n",
      "2,3: RUNNING mummer AND CREATING CLUSTERS\n",
      "# reading input file \"../data/streptomyces_genomes/output/output.ntref\" of length 6937472\n",
      "# construct suffix tree for sequence of length 6937472\n",
      "# (maximum reference length is 2305843009213693948)\n",
      "# (maximum query length is 18446744073709551615)\n",
      "# process 69374 characters per dot\n",
      "#....................................................................................................\n",
      "# CONSTRUCTIONTIME /opt/anaconda3/envs/pyani_issue_421/opt/mummer-3.23/mummer ../data/streptomyces_genomes/output/output.ntref 3.40\n",
      "# reading input file \"/Users/angelikakiepas/Desktop/pyani_all/pyani/replicate_dnadiff/scripts/../data/streptomyces_genomes/input/GCF_003369795.1_ASM336979v1_genomic.fna\" of length 7787608\n",
      "# matching query-file \"/Users/angelikakiepas/Desktop/pyani_all/pyani/replicate_dnadiff/scripts/../data/streptomyces_genomes/input/GCF_003369795.1_ASM336979v1_genomic.fna\"\n",
      "# against subject-file \"../data/streptomyces_genomes/output/output.ntref\"\n",
      "# COMPLETETIME /opt/anaconda3/envs/pyani_issue_421/opt/mummer-3.23/mummer ../data/streptomyces_genomes/output/output.ntref 11.60\n",
      "# SPACE /opt/anaconda3/envs/pyani_issue_421/opt/mummer-3.23/mummer ../data/streptomyces_genomes/output/output.ntref 14.25\n",
      "4: FINISHING DATA\n"
     ]
    },
    {
     "name": "stdout",
     "output_type": "stream",
     "text": [
      "(1684244, 0.24277632455011083)\n",
      "85.48\n"
     ]
    }
   ],
   "source": [
    "run_command_lines(\"../data/streptomyces_genomes/input\")\n",
    "print(AlignedBases(\"../data/streptomyces_genomes/input/GCF_002802945.1_ASM280294v1_genomic.fna\", \"../data/streptomyces_genomes/output/output.mcoords\", \"../data/streptomyces_genomes/output/output.rdiff\"))\n",
    "print(AverageIdentity(\"../data/streptomyces_genomes/output/output.mcoords\"))"
   ]
  },
  {
   "cell_type": "code",
   "execution_count": 10,
   "id": "6bccfd3a-f8d9-4596-a145-e1dfe402f78d",
   "metadata": {},
   "outputs": [
    {
     "name": "stdout",
     "output_type": "stream",
     "text": [
      "cat: 10: No such file or directory\n",
      "/Users/angelikakiepas/Desktop/pyani/issue_421/rounding_error/scripts/../data/streptomyces_genomes/input/GCF_002802945.1_ASM280294v1_genomic.fna /Users/angelikakiepas/Desktop/pyani/issue_421/rounding_error/scripts/../data/streptomyces_genomes/input/GCF_003369795.1_ASM336979v1_genomic.fna\n",
      "NUCMER\n",
      "\n",
      "                               [REF]                [QRY]\n",
      "[Sequences]\n",
      "TotalSeqs                         41                    1\n",
      "AlignedSeqs               22(53.66%)           1(100.00%)\n",
      "UnalignedSeqs             19(46.34%)             0(0.00%)\n",
      "\n",
      "[Bases]\n",
      "TotalBases                   6937431              7787608\n",
      "AlignedBases         1684244(24.28%)      1737298(22.31%)\n",
      "UnalignedBases       5253187(75.72%)      6050310(77.69%)\n",
      "\n",
      "[Alignments]\n",
      "1-to-1                          1455                 1455\n",
      "TotalLength                  1679781              1679569\n",
      "AvgLength                    1154.49              1154.34\n",
      "AvgIdentity                    85.35                85.35\n",
      "\n",
      "M-to-M                          1538                 1538\n",
      "TotalLength                  1755455              1754939\n",
      "AvgLength                    1141.39              1141.05\n",
      "AvgIdentity                    85.48                85.48\n",
      "\n"
     ]
    }
   ],
   "source": [
    "!cat 10 ../data/streptomyces_genomes/output/dnadiff/output.report | head -n 25"
   ]
  },
  {
   "cell_type": "code",
   "execution_count": null,
   "id": "f0ef897a-48c5-463f-92e3-fc59f4aab7be",
   "metadata": {},
   "outputs": [],
   "source": []
  }
 ],
 "metadata": {
  "kernelspec": {
   "display_name": "Python 3 (ipykernel)",
   "language": "python",
   "name": "python3"
  },
  "language_info": {
   "codemirror_mode": {
    "name": "ipython",
    "version": 3
   },
   "file_extension": ".py",
   "mimetype": "text/x-python",
   "name": "python",
   "nbconvert_exporter": "python",
   "pygments_lexer": "ipython3",
   "version": "3.8.18"
  }
 },
 "nbformat": 4,
 "nbformat_minor": 5
}
